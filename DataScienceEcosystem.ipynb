{
 "cells": [
  {
   "cell_type": "code",
   "execution_count": 1,
   "id": "2ea3b9e9-d8bb-4649-9e68-fade67bfc8b7",
   "metadata": {},
   "outputs": [],
   "source": [
    "# Data Science Tools and Ecosystem"
   ]
  },
  {
   "cell_type": "code",
   "execution_count": 2,
   "id": "4a9963c8-14df-46ed-ac9f-5800c7891bf5",
   "metadata": {},
   "outputs": [],
   "source": [
    "# Data Science Tools are going to be summarized thought out this notebook"
   ]
  },
  {
   "cell_type": "code",
   "execution_count": null,
   "id": "e65ba6c0-5465-4b34-922d-10a43a08b3c6",
   "metadata": {},
   "outputs": [],
   "source": [
    "# objectives:\n",
    "# key take away from this notebook:\n",
    "# 1. the different languages used by data scientist\n",
    "# 2. using addition and multiplication in python\n",
    "# 3. naming a few data science tools\n",
    "# 4. how to use this notebook correctly\n",
    "# 5. how to convert numbers using basic python code"
   ]
  },
  {
   "cell_type": "code",
   "execution_count": 3,
   "id": "8f8c2840-bfbd-479f-a4bc-f1978e172c3c",
   "metadata": {},
   "outputs": [],
   "source": [
    "# Some of the popular Language that data scientist use are:\n",
    "# 1.Python\n",
    "# 2.R\n",
    "# 3.SQL"
   ]
  },
  {
   "cell_type": "code",
   "execution_count": 4,
   "id": "851adef4-e0e6-43b5-a698-85a2ff7e4876",
   "metadata": {},
   "outputs": [],
   "source": [
    "# Commonly used libraries used by Data Scientists include:\n",
    "# 1.Matplotlib\n",
    "# 2.Pandas\n",
    "# 3.TensorFlow"
   ]
  },
  {
   "cell_type": "code",
   "execution_count": 5,
   "id": "22e34ab1-4049-4cb5-95c9-bee675ee0aca",
   "metadata": {},
   "outputs": [],
   "source": [
    "# Data Science Tools:\n",
    "# 1.MySQL\n",
    "# 2.MongoDB\n",
    "# 3.Couch DB"
   ]
  },
  {
   "cell_type": "code",
   "execution_count": 13,
   "id": "74bedc0e-0522-4f04-b762-68c2a318eded",
   "metadata": {
    "jupyter": {
     "source_hidden": true
    }
   },
   "outputs": [],
   "source": [
    "# Below are a few examples of arithmetic operations using python:"
   ]
  },
  {
   "cell_type": "code",
   "execution_count": 12,
   "id": "e4f9607b-6a59-4a97-aa9c-757a57ebd769",
   "metadata": {},
   "outputs": [
    {
     "data": {
      "text/plain": [
       "17"
      ]
     },
     "execution_count": 12,
     "metadata": {},
     "output_type": "execute_result"
    }
   ],
   "source": [
    "# this is a basic problem using multiplication and addition\n",
    "(3*4)+5"
   ]
  },
  {
   "cell_type": "code",
   "execution_count": 15,
   "id": "571f496a-210b-4bac-a783-68d3c3549f4f",
   "metadata": {},
   "outputs": [
    {
     "name": "stdout",
     "output_type": "stream",
     "text": [
      "3.3333333333333335\n"
     ]
    }
   ],
   "source": [
    "# this will convert 200 minutes to hours by dividing 60\n",
    "def minutes_to_hours(minutes):\n",
    "    return minutes / 60\n",
    "\n",
    "\n",
    "minutes = 200\n",
    "hours = minutes_to_hours(minutes)\n",
    "print(hours)"
   ]
  },
  {
   "cell_type": "code",
   "execution_count": null,
   "id": "9e069ed3-0df4-49e0-a0af-96e9902eb943",
   "metadata": {},
   "outputs": [],
   "source": [
    "# Author\n",
    "# Andrew W"
   ]
  }
 ],
 "metadata": {
  "kernelspec": {
   "display_name": "Python 3 (ipykernel)",
   "language": "python",
   "name": "python3"
  },
  "language_info": {
   "codemirror_mode": {
    "name": "ipython",
    "version": 3
   },
   "file_extension": ".py",
   "mimetype": "text/x-python",
   "name": "python",
   "nbconvert_exporter": "python",
   "pygments_lexer": "ipython3",
   "version": "3.11.9"
  }
 },
 "nbformat": 4,
 "nbformat_minor": 5
}
